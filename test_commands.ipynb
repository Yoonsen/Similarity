{
 "cells": [
  {
   "cell_type": "code",
   "execution_count": 1,
   "id": "e47d31c6-fe19-4020-ad7a-e152d11855ca",
   "metadata": {},
   "outputs": [],
   "source": [
    "import dhlab as dh\n",
    "import requests\n",
    "import pandas as pd"
   ]
  },
  {
   "cell_type": "code",
   "execution_count": 2,
   "id": "335ec121-04d1-4db8-8a53-b6c1fa1e0e7c",
   "metadata": {},
   "outputs": [],
   "source": [
    "base_url = \"https://api.nb.no/dhlab/similarity\""
   ]
  },
  {
   "cell_type": "code",
   "execution_count": 32,
   "id": "24ad5065-ab04-4b9b-8a81-de565cbe54ec",
   "metadata": {},
   "outputs": [],
   "source": [
    "import re\n",
    "from IPython.display import HTML\n",
    "\n",
    "def display_finds(r, num_rows, num_columns, width=500):\n",
    "    \"\"\"A list of urls in r is displayed in a grid layout with specified number of rows and columns.\"\"\"\n",
    "    base = \"https://www.nb.no/items/\"\n",
    "    # Initialize the rows list which will contain HTML string for each row\n",
    "    rows_html = []\n",
    "    # Calculate total number of items to display, based on the specified rows and columns\n",
    "    total_items = num_rows * num_columns\n",
    "    # Ensure we don't try to display more items than we have\n",
    "    r = r[:total_items]\n",
    "    \n",
    "    # Split the list into rows with the specified number of columns\n",
    "    for row_start in range(0, len(r), num_columns):\n",
    "        row_items = r[row_start:row_start+num_columns]\n",
    "        # For each row, create a list of cell HTML strings\n",
    "        cells_html = []\n",
    "        for i, item in enumerate(row_items):\n",
    "            urnstring = re.findall(\"URN[^/]*\", item)[0]\n",
    "            prefix, doctyp, urn, page = urnstring.split('_')\n",
    "            cell_html = f\"<td><a href='{base}{prefix}_{doctyp}_{urn}?page={int(page) + 1}' target='_'><img src='{item}' width={width}></a>{row_start+i}</td>\"\n",
    "            cells_html.append(cell_html)\n",
    "        # Join the cell HTML strings into a row and add it to the rows list\n",
    "        rows_html.append(f\"<tr>{' '.join(cells_html)}</tr>\")\n",
    "\n",
    "    # Join all rows into the final HTML table\n",
    "    html_table = f\"<table>{' '.join(rows_html)}</table>\"\n",
    "    return HTML(f\"\"\"<html><head></head><body>{html_table}</body></html>\"\"\")\n",
    "import numpy as np"
   ]
  },
  {
   "cell_type": "code",
   "execution_count": 3,
   "id": "9f459203-8b6f-4d20-946e-39c9a044fe5a",
   "metadata": {},
   "outputs": [],
   "source": [
    "def collections():\n",
    "    r = requests.get(f\"{base_url}/collections\")\n",
    "    if r.status_code == 200:\n",
    "        res = r.text\n",
    "    else:\n",
    "        res = \"\"\n",
    "    return res"
   ]
  },
  {
   "cell_type": "code",
   "execution_count": 4,
   "id": "2ca5ce26-cda4-4145-8ab2-66d9269581b0",
   "metadata": {},
   "outputs": [],
   "source": [
    "def words(word=None, collection_name=None):\n",
    "    params = locals()\n",
    "    r = requests.get(f\"{base_url}/sim_words\", params=params)\n",
    "    if r.status_code == 200:\n",
    "        res = pd.DataFrame(r.json(), columns=['word','score'])\n",
    "    else:\n",
    "        res = pd.DataFrame()\n",
    "    return res"
   ]
  },
  {
   "cell_type": "code",
   "execution_count": 25,
   "id": "e28ef0e3-7d08-40d4-81cb-c1f63b76d0db",
   "metadata": {},
   "outputs": [],
   "source": [
    "def image(search=None, hits=10):\n",
    "    params = locals()\n",
    "    r = requests.get(f\"{base_url}/images\", params=params)\n",
    "    if r.status_code == 200:\n",
    "        res = r.json()\n",
    "    else:\n",
    "        print(r.status_code)\n",
    "        res = \"\"\n",
    "    return res"
   ]
  },
  {
   "cell_type": "code",
   "execution_count": 40,
   "id": "898962d3-7129-4a23-aaa9-30c40f8f096a",
   "metadata": {},
   "outputs": [],
   "source": [
    "def sim_image(image_url=None, limit=20):\n",
    "    params = locals()\n",
    "    r = requests.get(f\"{base_url}/sim_images\", params=params)\n",
    "    if r.status_code == 200:\n",
    "        res = r.json()\n",
    "    else:\n",
    "        print(r.status_code)\n",
    "        res = \"\"\n",
    "    return res"
   ]
  },
  {
   "cell_type": "code",
   "execution_count": 43,
   "id": "fa6c7239-9d48-4dfc-9b58-1e3bf8714db4",
   "metadata": {},
   "outputs": [
    {
     "name": "stdout",
     "output_type": "stream",
     "text": [
      "502\n"
     ]
    }
   ],
   "source": [
    "ims = image(\"eskimo\", hits=20)"
   ]
  },
  {
   "cell_type": "code",
   "execution_count": 44,
   "id": "1c888a4c-877b-4aed-93a6-8e3a9abe9055",
   "metadata": {},
   "outputs": [
    {
     "ename": "AttributeError",
     "evalue": "'str' object has no attribute 'values'",
     "output_type": "error",
     "traceback": [
      "\u001b[0;31m---------------------------------------------------------------------------\u001b[0m",
      "\u001b[0;31mAttributeError\u001b[0m                            Traceback (most recent call last)",
      "Cell \u001b[0;32mIn[44], line 1\u001b[0m\n\u001b[0;32m----> 1\u001b[0m display_finds([x[\u001b[38;5;241m0\u001b[39m] \u001b[38;5;28;01mfor\u001b[39;00m x \u001b[38;5;129;01min\u001b[39;00m \u001b[43mims\u001b[49m\u001b[38;5;241;43m.\u001b[39;49m\u001b[43mvalues\u001b[49m()],\u001b[38;5;241m10\u001b[39m,\u001b[38;5;241m4\u001b[39m)\n",
      "\u001b[0;31mAttributeError\u001b[0m: 'str' object has no attribute 'values'"
     ]
    }
   ],
   "source": [
    "display_finds([x[0] for x in ims.values()],10,4)"
   ]
  },
  {
   "cell_type": "code",
   "execution_count": 29,
   "id": "40c289dd-d739-4c72-ac92-eeade018973e",
   "metadata": {},
   "outputs": [
    {
     "data": {
      "text/plain": [
       "[['https://www.nb.no/services/image/resolver/URN:NBN:no-nb_digibok_2009060503005_0292/462,925,1263,1383/315,/0/default.jpg',\n",
       "  0.99999994],\n",
       " ['https://www.nb.no/services/image/resolver/URN:NBN:no-nb_digibok_2013040824075_0645/358,874,1280,1403/320,/0/default.jpg',\n",
       "  0.97438085],\n",
       " ['https://www.nb.no/services/image/resolver/URN:NBN:no-nb_digibok_2009101212001_0459/360,784,1259,1395/314,/0/default.jpg',\n",
       "  0.9618212],\n",
       " ['https://www.nb.no/services/image/resolver/URN:NBN:no-nb_digibok_2009101910001_0639/457,722,1266,1384/316,/0/default.jpg',\n",
       "  0.95577365],\n",
       " ['https://www.nb.no/services/image/resolver/URN:NBN:no-nb_digibok_2009101212001_0457/262,923,1445,1193/361,298/0/default.jpg',\n",
       "  0.88135064],\n",
       " ['https://www.nb.no/services/image/resolver/URN:NBN:no-nb_digibok_2016052707018_0453/429,594,1426,1995/356,/0/default.jpg',\n",
       "  0.88058984],\n",
       " ['https://www.nb.no/services/image/resolver/URN:NBN:no-nb_digibok_2015032508049_0087/432,846,1091,1410/272,/0/default.jpg',\n",
       "  0.8784076],\n",
       " ['https://www.nb.no/services/image/resolver/URN:NBN:no-nb_digibok_2009092410001_0408/430,756,1371,1190/342,297/0/default.jpg',\n",
       "  0.8724252],\n",
       " ['https://www.nb.no/services/image/resolver/URN:NBN:no-nb_digibok_2009101910001_0637/350,895,1445,1184/361,295/0/default.jpg',\n",
       "  0.87177527],\n",
       " ['https://www.nb.no/services/image/resolver/URN:NBN:no-nb_digibok_2009101910001_0679/755,938,603,903/301,/0/default.jpg',\n",
       "  0.8698578]]"
      ]
     },
     "execution_count": 29,
     "metadata": {},
     "output_type": "execute_result"
    }
   ],
   "source": [
    "sim_image(image_url='https://www.nb.no/services/image/resolver/URN:NBN:no-nb_digibok_2009060503005_0292/462,925,1263,1383/315,/0/default.jpg', limit=10)"
   ]
  },
  {
   "cell_type": "code",
   "execution_count": 5,
   "id": "bdf505f4-0d02-4da7-8479-195b5b8f5724",
   "metadata": {},
   "outputs": [
    {
     "data": {
      "text/plain": [
       "'vss_1850_cosvss_dewey_codevss_1800_cosvss_deweyimages_1900_cos'"
      ]
     },
     "execution_count": 5,
     "metadata": {},
     "output_type": "execute_result"
    }
   ],
   "source": [
    "collections()"
   ]
  },
  {
   "cell_type": "code",
   "execution_count": 11,
   "id": "3177e6f1-024b-4719-990e-92ac88aa0f0a",
   "metadata": {},
   "outputs": [
    {
     "data": {
      "text/html": [
       "<div>\n",
       "<style scoped>\n",
       "    .dataframe tbody tr th:only-of-type {\n",
       "        vertical-align: middle;\n",
       "    }\n",
       "\n",
       "    .dataframe tbody tr th {\n",
       "        vertical-align: top;\n",
       "    }\n",
       "\n",
       "    .dataframe thead th {\n",
       "        text-align: right;\n",
       "    }\n",
       "</style>\n",
       "<table border=\"1\" class=\"dataframe\">\n",
       "  <thead>\n",
       "    <tr style=\"text-align: right;\">\n",
       "      <th></th>\n",
       "      <th>word</th>\n",
       "      <th>score</th>\n",
       "    </tr>\n",
       "  </thead>\n",
       "  <tbody>\n",
       "    <tr>\n",
       "      <th>0</th>\n",
       "      <td>Hottentotterne</td>\n",
       "      <td>1.000000</td>\n",
       "    </tr>\n",
       "    <tr>\n",
       "      <th>1</th>\n",
       "      <td>Negerne</td>\n",
       "      <td>0.852923</td>\n",
       "    </tr>\n",
       "    <tr>\n",
       "      <th>2</th>\n",
       "      <td>Kafferne</td>\n",
       "      <td>0.848572</td>\n",
       "    </tr>\n",
       "    <tr>\n",
       "      <th>3</th>\n",
       "      <td>Malayerne</td>\n",
       "      <td>0.843608</td>\n",
       "    </tr>\n",
       "    <tr>\n",
       "      <th>4</th>\n",
       "      <td>Buskmændene</td>\n",
       "      <td>0.841932</td>\n",
       "    </tr>\n",
       "    <tr>\n",
       "      <th>5</th>\n",
       "      <td>Eskimoerne</td>\n",
       "      <td>0.827435</td>\n",
       "    </tr>\n",
       "    <tr>\n",
       "      <th>6</th>\n",
       "      <td>Kirgiserne</td>\n",
       "      <td>0.812098</td>\n",
       "    </tr>\n",
       "    <tr>\n",
       "      <th>7</th>\n",
       "      <td>Eskimoer</td>\n",
       "      <td>0.808257</td>\n",
       "    </tr>\n",
       "    <tr>\n",
       "      <th>8</th>\n",
       "      <td>Hottentotter</td>\n",
       "      <td>0.806720</td>\n",
       "    </tr>\n",
       "    <tr>\n",
       "      <th>9</th>\n",
       "      <td>Baskerne</td>\n",
       "      <td>0.803992</td>\n",
       "    </tr>\n",
       "    <tr>\n",
       "      <th>10</th>\n",
       "      <td>Negrene</td>\n",
       "      <td>0.802497</td>\n",
       "    </tr>\n",
       "    <tr>\n",
       "      <th>11</th>\n",
       "      <td>Mongoler</td>\n",
       "      <td>0.791804</td>\n",
       "    </tr>\n",
       "    <tr>\n",
       "      <th>12</th>\n",
       "      <td>Hinduerne</td>\n",
       "      <td>0.791674</td>\n",
       "    </tr>\n",
       "    <tr>\n",
       "      <th>13</th>\n",
       "      <td>Arabere</td>\n",
       "      <td>0.789866</td>\n",
       "    </tr>\n",
       "    <tr>\n",
       "      <th>14</th>\n",
       "      <td>Samojederne</td>\n",
       "      <td>0.788800</td>\n",
       "    </tr>\n",
       "    <tr>\n",
       "      <th>15</th>\n",
       "      <td>Beduinerne</td>\n",
       "      <td>0.787147</td>\n",
       "    </tr>\n",
       "    <tr>\n",
       "      <th>16</th>\n",
       "      <td>Indierne</td>\n",
       "      <td>0.771806</td>\n",
       "    </tr>\n",
       "    <tr>\n",
       "      <th>17</th>\n",
       "      <td>Kalmukkerne</td>\n",
       "      <td>0.769154</td>\n",
       "    </tr>\n",
       "    <tr>\n",
       "      <th>18</th>\n",
       "      <td>Indianerne</td>\n",
       "      <td>0.757190</td>\n",
       "    </tr>\n",
       "    <tr>\n",
       "      <th>19</th>\n",
       "      <td>Slaverne</td>\n",
       "      <td>0.755918</td>\n",
       "    </tr>\n",
       "  </tbody>\n",
       "</table>\n",
       "</div>"
      ],
      "text/plain": [
       "              word     score\n",
       "0   Hottentotterne  1.000000\n",
       "1          Negerne  0.852923\n",
       "2         Kafferne  0.848572\n",
       "3        Malayerne  0.843608\n",
       "4      Buskmændene  0.841932\n",
       "5       Eskimoerne  0.827435\n",
       "6       Kirgiserne  0.812098\n",
       "7         Eskimoer  0.808257\n",
       "8     Hottentotter  0.806720\n",
       "9         Baskerne  0.803992\n",
       "10         Negrene  0.802497\n",
       "11        Mongoler  0.791804\n",
       "12       Hinduerne  0.791674\n",
       "13         Arabere  0.789866\n",
       "14     Samojederne  0.788800\n",
       "15      Beduinerne  0.787147\n",
       "16        Indierne  0.771806\n",
       "17     Kalmukkerne  0.769154\n",
       "18      Indianerne  0.757190\n",
       "19        Slaverne  0.755918"
      ]
     },
     "execution_count": 11,
     "metadata": {},
     "output_type": "execute_result"
    }
   ],
   "source": [
    "words(word='Hottentotterne', collection_name=\"vss_1850_cos\")"
   ]
  },
  {
   "cell_type": "code",
   "execution_count": null,
   "id": "0d1f4230-0cdd-4010-bd38-e817de6f5190",
   "metadata": {},
   "outputs": [],
   "source": []
  }
 ],
 "metadata": {
  "kernelspec": {
   "display_name": "Python 3 (ipykernel)",
   "language": "python",
   "name": "python3"
  },
  "language_info": {
   "codemirror_mode": {
    "name": "ipython",
    "version": 3
   },
   "file_extension": ".py",
   "mimetype": "text/x-python",
   "name": "python",
   "nbconvert_exporter": "python",
   "pygments_lexer": "ipython3",
   "version": "3.11.4"
  }
 },
 "nbformat": 4,
 "nbformat_minor": 5
}
